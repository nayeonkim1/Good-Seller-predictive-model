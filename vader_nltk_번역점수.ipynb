{
  "nbformat": 4,
  "nbformat_minor": 0,
  "metadata": {
    "colab": {
      "provenance": []
    },
    "kernelspec": {
      "name": "python3",
      "display_name": "Python 3"
    },
    "language_info": {
      "name": "python"
    }
  },
  "cells": [
    {
      "cell_type": "code",
      "execution_count": null,
      "metadata": {
        "colab": {
          "base_uri": "https://localhost:8080/"
        },
        "id": "KDUaDaHw75U9",
        "outputId": "7d779b5f-84fc-4c97-c990-df0c9fb58f70"
      },
      "outputs": [
        {
          "output_type": "stream",
          "name": "stdout",
          "text": [
            "[nltk_data] Downloading package punkt to /root/nltk_data...\n",
            "[nltk_data]   Package punkt is already up-to-date!\n",
            "[nltk_data] Downloading package wordnet to /root/nltk_data...\n",
            "[nltk_data]   Package wordnet is already up-to-date!\n",
            "[nltk_data] Downloading package stopwords to /root/nltk_data...\n",
            "[nltk_data]   Package stopwords is already up-to-date!\n"
          ]
        }
      ],
      "source": [
        "import nltk\n",
        "from nltk.sentiment.vader import SentimentIntensityAnalyzer\n",
        "nltk.download('punkt')\n",
        "\n",
        "from nltk.corpus import stopwords\n",
        "nltk.download('wordnet')\n",
        "nltk.download('stopwords')\n",
        "\n",
        "import pandas as pd\n",
        "import matplotlib.pyplot as plt"
      ]
    },
    {
      "cell_type": "markdown",
      "source": [
        "# data load"
      ],
      "metadata": {
        "id": "zUT5bQjt8I6c"
      }
    },
    {
      "cell_type": "code",
      "source": [
        "from nltk.stem.porter import *\n",
        "stemmer = nltk.PorterStemmer()\n",
        "\n",
        "df = pd.read_excel('review_번역.xlsx')\n",
        "df.info()"
      ],
      "metadata": {
        "colab": {
          "base_uri": "https://localhost:8080/"
        },
        "id": "i6A9Lo9m78Fx",
        "outputId": "b713484d-1901-42b6-ebc1-a41e201976b4"
      },
      "execution_count": null,
      "outputs": [
        {
          "output_type": "stream",
          "name": "stdout",
          "text": [
            "<class 'pandas.core.frame.DataFrame'>\n",
            "RangeIndex: 2979 entries, 0 to 2978\n",
            "Data columns (total 7 columns):\n",
            " #   Column      Non-Null Count  Dtype \n",
            "---  ------      --------------  ----- \n",
            " 0   book_title  2979 non-null   object\n",
            " 1   search      2979 non-null   object\n",
            " 2   rating      2979 non-null   int64 \n",
            " 3   review      2979 non-null   object\n",
            " 4   en_review   2979 non-null   object\n",
            " 5   ko_review   2979 non-null   object\n",
            " 6   likes       2979 non-null   int64 \n",
            "dtypes: int64(2), object(5)\n",
            "memory usage: 163.0+ KB\n"
          ]
        }
      ]
    },
    {
      "cell_type": "code",
      "source": [
        "df.head()"
      ],
      "metadata": {
        "colab": {
          "base_uri": "https://localhost:8080/",
          "height": 336
        },
        "id": "7qnt5WHa_ZGb",
        "outputId": "7354f3a0-fa9e-4d5f-84c9-e0c6a67a7b38"
      },
      "execution_count": null,
      "outputs": [
        {
          "output_type": "execute_result",
          "data": {
            "text/html": [
              "\n",
              "  <div id=\"df-66958b86-9c05-43cc-9943-b4dedf17fcb7\">\n",
              "    <div class=\"colab-df-container\">\n",
              "      <div>\n",
              "<style scoped>\n",
              "    .dataframe tbody tr th:only-of-type {\n",
              "        vertical-align: middle;\n",
              "    }\n",
              "\n",
              "    .dataframe tbody tr th {\n",
              "        vertical-align: top;\n",
              "    }\n",
              "\n",
              "    .dataframe thead th {\n",
              "        text-align: right;\n",
              "    }\n",
              "</style>\n",
              "<table border=\"1\" class=\"dataframe\">\n",
              "  <thead>\n",
              "    <tr style=\"text-align: right;\">\n",
              "      <th></th>\n",
              "      <th>book_title</th>\n",
              "      <th>search</th>\n",
              "      <th>rating</th>\n",
              "      <th>review</th>\n",
              "      <th>en_review</th>\n",
              "      <th>ko_review</th>\n",
              "      <th>likes</th>\n",
              "    </tr>\n",
              "  </thead>\n",
              "  <tbody>\n",
              "    <tr>\n",
              "      <th>0</th>\n",
              "      <td>28</td>\n",
              "      <td>28</td>\n",
              "      <td>5</td>\n",
              "      <td>Một cuốn sách chạm đến cảm xúc của mình.\\nBan ...</td>\n",
              "      <td>A book touches her feelings.\\nInitially readin...</td>\n",
              "      <td>책은 그녀의 감정을 촉진합니다.\\n처음에는 똑같은 사람들과 평소처럼 이것이 질병이라...</td>\n",
              "      <td>0</td>\n",
              "    </tr>\n",
              "    <tr>\n",
              "      <th>1</th>\n",
              "      <td>28</td>\n",
              "      <td>28</td>\n",
              "      <td>4</td>\n",
              "      <td>28 - Jeong YouJeong\\n\\nNhân mùa dịch đọc truyệ...</td>\n",
              "      <td>28 - jeong youjeong\\n\\nTranslation season Read...</td>\n",
              "      <td>28 - 정읍\\n\\n번역 시즌 서로의 전염병과 관련된 이야기 😜\\n\\n28은 Hwa...</td>\n",
              "      <td>0</td>\n",
              "    </tr>\n",
              "    <tr>\n",
              "      <th>2</th>\n",
              "      <td>Nikto ne uznaet...</td>\n",
              "      <td>Nikto ne uznaet...</td>\n",
              "      <td>3</td>\n",
              "      <td>Sách mượn của bạn, đọc trên xe bus ^^\\nĐiều gì...</td>\n",
              "      <td>Bow your loan, read on the bus ^^\\nWhat happen...</td>\n",
              "      <td>당신의 대출을 활, 버스에서 읽으십시오 ^^\\n어떤 일이 일어나는지, 누가 알고있는...</td>\n",
              "      <td>0</td>\n",
              "    </tr>\n",
              "    <tr>\n",
              "      <th>3</th>\n",
              "      <td>Vasha ten ponedelnik</td>\n",
              "      <td>Vasha ten ponedelnik</td>\n",
              "      <td>2</td>\n",
              "      <td>This was weird. The translator made some odd c...</td>\n",
              "      <td>This was weird. The translator made some odd c...</td>\n",
              "      <td>이것은 이상 했어. 번역가는이 책을 번역하는 이상한 선택을했습니다. 가장 많은 부분...</td>\n",
              "      <td>2</td>\n",
              "    </tr>\n",
              "    <tr>\n",
              "      <th>4</th>\n",
              "      <td>Vasha ten ponedelnik</td>\n",
              "      <td>Vasha ten ponedelnik</td>\n",
              "      <td>3</td>\n",
              "      <td>Eine insgesamt etwas zerfahrene Kriminalgeschi...</td>\n",
              "      <td>An overall somewhat cervical crime history fro...</td>\n",
              "      <td>한국의 전반적인 자궁 경부 범죄 역사는 종종 실제 음모를 잃는다. 그러나 매우 보조...</td>\n",
              "      <td>0</td>\n",
              "    </tr>\n",
              "  </tbody>\n",
              "</table>\n",
              "</div>\n",
              "      <button class=\"colab-df-convert\" onclick=\"convertToInteractive('df-66958b86-9c05-43cc-9943-b4dedf17fcb7')\"\n",
              "              title=\"Convert this dataframe to an interactive table.\"\n",
              "              style=\"display:none;\">\n",
              "        \n",
              "  <svg xmlns=\"http://www.w3.org/2000/svg\" height=\"24px\"viewBox=\"0 0 24 24\"\n",
              "       width=\"24px\">\n",
              "    <path d=\"M0 0h24v24H0V0z\" fill=\"none\"/>\n",
              "    <path d=\"M18.56 5.44l.94 2.06.94-2.06 2.06-.94-2.06-.94-.94-2.06-.94 2.06-2.06.94zm-11 1L8.5 8.5l.94-2.06 2.06-.94-2.06-.94L8.5 2.5l-.94 2.06-2.06.94zm10 10l.94 2.06.94-2.06 2.06-.94-2.06-.94-.94-2.06-.94 2.06-2.06.94z\"/><path d=\"M17.41 7.96l-1.37-1.37c-.4-.4-.92-.59-1.43-.59-.52 0-1.04.2-1.43.59L10.3 9.45l-7.72 7.72c-.78.78-.78 2.05 0 2.83L4 21.41c.39.39.9.59 1.41.59.51 0 1.02-.2 1.41-.59l7.78-7.78 2.81-2.81c.8-.78.8-2.07 0-2.86zM5.41 20L4 18.59l7.72-7.72 1.47 1.35L5.41 20z\"/>\n",
              "  </svg>\n",
              "      </button>\n",
              "      \n",
              "  <style>\n",
              "    .colab-df-container {\n",
              "      display:flex;\n",
              "      flex-wrap:wrap;\n",
              "      gap: 12px;\n",
              "    }\n",
              "\n",
              "    .colab-df-convert {\n",
              "      background-color: #E8F0FE;\n",
              "      border: none;\n",
              "      border-radius: 50%;\n",
              "      cursor: pointer;\n",
              "      display: none;\n",
              "      fill: #1967D2;\n",
              "      height: 32px;\n",
              "      padding: 0 0 0 0;\n",
              "      width: 32px;\n",
              "    }\n",
              "\n",
              "    .colab-df-convert:hover {\n",
              "      background-color: #E2EBFA;\n",
              "      box-shadow: 0px 1px 2px rgba(60, 64, 67, 0.3), 0px 1px 3px 1px rgba(60, 64, 67, 0.15);\n",
              "      fill: #174EA6;\n",
              "    }\n",
              "\n",
              "    [theme=dark] .colab-df-convert {\n",
              "      background-color: #3B4455;\n",
              "      fill: #D2E3FC;\n",
              "    }\n",
              "\n",
              "    [theme=dark] .colab-df-convert:hover {\n",
              "      background-color: #434B5C;\n",
              "      box-shadow: 0px 1px 3px 1px rgba(0, 0, 0, 0.15);\n",
              "      filter: drop-shadow(0px 1px 2px rgba(0, 0, 0, 0.3));\n",
              "      fill: #FFFFFF;\n",
              "    }\n",
              "  </style>\n",
              "\n",
              "      <script>\n",
              "        const buttonEl =\n",
              "          document.querySelector('#df-66958b86-9c05-43cc-9943-b4dedf17fcb7 button.colab-df-convert');\n",
              "        buttonEl.style.display =\n",
              "          google.colab.kernel.accessAllowed ? 'block' : 'none';\n",
              "\n",
              "        async function convertToInteractive(key) {\n",
              "          const element = document.querySelector('#df-66958b86-9c05-43cc-9943-b4dedf17fcb7');\n",
              "          const dataTable =\n",
              "            await google.colab.kernel.invokeFunction('convertToInteractive',\n",
              "                                                     [key], {});\n",
              "          if (!dataTable) return;\n",
              "\n",
              "          const docLinkHtml = 'Like what you see? Visit the ' +\n",
              "            '<a target=\"_blank\" href=https://colab.research.google.com/notebooks/data_table.ipynb>data table notebook</a>'\n",
              "            + ' to learn more about interactive tables.';\n",
              "          element.innerHTML = '';\n",
              "          dataTable['output_type'] = 'display_data';\n",
              "          await google.colab.output.renderOutput(dataTable, element);\n",
              "          const docLink = document.createElement('div');\n",
              "          docLink.innerHTML = docLinkHtml;\n",
              "          element.appendChild(docLink);\n",
              "        }\n",
              "      </script>\n",
              "    </div>\n",
              "  </div>\n",
              "  "
            ],
            "text/plain": [
              "             book_title  ... likes\n",
              "0                    28  ...     0\n",
              "1                    28  ...     0\n",
              "2    Nikto ne uznaet...  ...     0\n",
              "3  Vasha ten ponedelnik  ...     2\n",
              "4  Vasha ten ponedelnik  ...     0\n",
              "\n",
              "[5 rows x 7 columns]"
            ]
          },
          "metadata": {},
          "execution_count": 120
        }
      ]
    },
    {
      "cell_type": "code",
      "source": [
        "searched_words = ['translat']\n",
        "searched_words = [stemmer.stem(w.lower()) for w in searched_words]\n",
        "searched_words"
      ],
      "metadata": {
        "colab": {
          "base_uri": "https://localhost:8080/"
        },
        "id": "zc_SgPkS_ZI9",
        "outputId": "06b9b236-47e7-45c1-cfaa-65dc0993929b"
      },
      "execution_count": null,
      "outputs": [
        {
          "output_type": "execute_result",
          "data": {
            "text/plain": [
              "['translat']"
            ]
          },
          "metadata": {},
          "execution_count": 121
        }
      ]
    },
    {
      "cell_type": "code",
      "source": [
        "# 번역 키워드('translat-') 포함하는 문장만!\n",
        "\n",
        "df['text'] = df['en_review'].apply(lambda text: [sent for sent in sent_tokenize(text)\n",
        "                           if any([(w2.lower() in w.lower()) for w in word_tokenize(sent)\n",
        "                                   for w2 in searched_words])])\n",
        "\n",
        "df.head()"
      ],
      "metadata": {
        "id": "QLjxoTmB_ZD-"
      },
      "execution_count": null,
      "outputs": []
    },
    {
      "cell_type": "code",
      "source": [
        "df['text'] = df['text'].apply(lambda x: str(x)[1:-1])\n",
        "df.head()"
      ],
      "metadata": {
        "colab": {
          "base_uri": "https://localhost:8080/",
          "height": 336
        },
        "id": "UlWdX-yqSdEJ",
        "outputId": "55c5bb75-f5a3-4dfa-a2be-5a30912fef4c"
      },
      "execution_count": null,
      "outputs": [
        {
          "output_type": "execute_result",
          "data": {
            "text/html": [
              "\n",
              "  <div id=\"df-5345f364-66e9-4a71-b533-873bea3a85cb\">\n",
              "    <div class=\"colab-df-container\">\n",
              "      <div>\n",
              "<style scoped>\n",
              "    .dataframe tbody tr th:only-of-type {\n",
              "        vertical-align: middle;\n",
              "    }\n",
              "\n",
              "    .dataframe tbody tr th {\n",
              "        vertical-align: top;\n",
              "    }\n",
              "\n",
              "    .dataframe thead th {\n",
              "        text-align: right;\n",
              "    }\n",
              "</style>\n",
              "<table border=\"1\" class=\"dataframe\">\n",
              "  <thead>\n",
              "    <tr style=\"text-align: right;\">\n",
              "      <th></th>\n",
              "      <th>book_title</th>\n",
              "      <th>search</th>\n",
              "      <th>rating</th>\n",
              "      <th>review</th>\n",
              "      <th>en_review</th>\n",
              "      <th>ko_review</th>\n",
              "      <th>likes</th>\n",
              "      <th>text</th>\n",
              "    </tr>\n",
              "  </thead>\n",
              "  <tbody>\n",
              "    <tr>\n",
              "      <th>0</th>\n",
              "      <td>28</td>\n",
              "      <td>28</td>\n",
              "      <td>5</td>\n",
              "      <td>Một cuốn sách chạm đến cảm xúc của mình.\\nBan ...</td>\n",
              "      <td>A book touches her feelings.\\nInitially readin...</td>\n",
              "      <td>책은 그녀의 감정을 촉진합니다.\\n처음에는 똑같은 사람들과 평소처럼 이것이 질병이라...</td>\n",
              "      <td>0</td>\n",
              "      <td>'A book worth reading despite translation or n...</td>\n",
              "    </tr>\n",
              "    <tr>\n",
              "      <th>1</th>\n",
              "      <td>28</td>\n",
              "      <td>28</td>\n",
              "      <td>4</td>\n",
              "      <td>28 - Jeong YouJeong\\n\\nNhân mùa dịch đọc truyệ...</td>\n",
              "      <td>28 - jeong youjeong\\n\\nTranslation season Read...</td>\n",
              "      <td>28 - 정읍\\n\\n번역 시즌 서로의 전염병과 관련된 이야기 😜\\n\\n28은 Hwa...</td>\n",
              "      <td>0</td>\n",
              "      <td>'28 - jeong youjeong\\n\\nTranslation season Rea...</td>\n",
              "    </tr>\n",
              "    <tr>\n",
              "      <th>2</th>\n",
              "      <td>Nikto ne uznaet...</td>\n",
              "      <td>Nikto ne uznaet...</td>\n",
              "      <td>3</td>\n",
              "      <td>Sách mượn của bạn, đọc trên xe bus ^^\\nĐiều gì...</td>\n",
              "      <td>Bow your loan, read on the bus ^^\\nWhat happen...</td>\n",
              "      <td>당신의 대출을 활, 버스에서 읽으십시오 ^^\\n어떤 일이 일어나는지, 누가 알고있는...</td>\n",
              "      <td>0</td>\n",
              "      <td>'End but no less important, I still have a son...</td>\n",
              "    </tr>\n",
              "    <tr>\n",
              "      <th>3</th>\n",
              "      <td>Vasha ten ponedelnik</td>\n",
              "      <td>Vasha ten ponedelnik</td>\n",
              "      <td>2</td>\n",
              "      <td>This was weird. The translator made some odd c...</td>\n",
              "      <td>This was weird. The translator made some odd c...</td>\n",
              "      <td>이것은 이상 했어. 번역가는이 책을 번역하는 이상한 선택을했습니다. 가장 많은 부분...</td>\n",
              "      <td>2</td>\n",
              "      <td>'The translator made some odd choices translat...</td>\n",
              "    </tr>\n",
              "    <tr>\n",
              "      <th>4</th>\n",
              "      <td>Vasha ten ponedelnik</td>\n",
              "      <td>Vasha ten ponedelnik</td>\n",
              "      <td>3</td>\n",
              "      <td>Eine insgesamt etwas zerfahrene Kriminalgeschi...</td>\n",
              "      <td>An overall somewhat cervical crime history fro...</td>\n",
              "      <td>한국의 전반적인 자궁 경부 범죄 역사는 종종 실제 음모를 잃는다. 그러나 매우 보조...</td>\n",
              "      <td>0</td>\n",
              "      <td>'The German translation has recently been publ...</td>\n",
              "    </tr>\n",
              "  </tbody>\n",
              "</table>\n",
              "</div>\n",
              "      <button class=\"colab-df-convert\" onclick=\"convertToInteractive('df-5345f364-66e9-4a71-b533-873bea3a85cb')\"\n",
              "              title=\"Convert this dataframe to an interactive table.\"\n",
              "              style=\"display:none;\">\n",
              "        \n",
              "  <svg xmlns=\"http://www.w3.org/2000/svg\" height=\"24px\"viewBox=\"0 0 24 24\"\n",
              "       width=\"24px\">\n",
              "    <path d=\"M0 0h24v24H0V0z\" fill=\"none\"/>\n",
              "    <path d=\"M18.56 5.44l.94 2.06.94-2.06 2.06-.94-2.06-.94-.94-2.06-.94 2.06-2.06.94zm-11 1L8.5 8.5l.94-2.06 2.06-.94-2.06-.94L8.5 2.5l-.94 2.06-2.06.94zm10 10l.94 2.06.94-2.06 2.06-.94-2.06-.94-.94-2.06-.94 2.06-2.06.94z\"/><path d=\"M17.41 7.96l-1.37-1.37c-.4-.4-.92-.59-1.43-.59-.52 0-1.04.2-1.43.59L10.3 9.45l-7.72 7.72c-.78.78-.78 2.05 0 2.83L4 21.41c.39.39.9.59 1.41.59.51 0 1.02-.2 1.41-.59l7.78-7.78 2.81-2.81c.8-.78.8-2.07 0-2.86zM5.41 20L4 18.59l7.72-7.72 1.47 1.35L5.41 20z\"/>\n",
              "  </svg>\n",
              "      </button>\n",
              "      \n",
              "  <style>\n",
              "    .colab-df-container {\n",
              "      display:flex;\n",
              "      flex-wrap:wrap;\n",
              "      gap: 12px;\n",
              "    }\n",
              "\n",
              "    .colab-df-convert {\n",
              "      background-color: #E8F0FE;\n",
              "      border: none;\n",
              "      border-radius: 50%;\n",
              "      cursor: pointer;\n",
              "      display: none;\n",
              "      fill: #1967D2;\n",
              "      height: 32px;\n",
              "      padding: 0 0 0 0;\n",
              "      width: 32px;\n",
              "    }\n",
              "\n",
              "    .colab-df-convert:hover {\n",
              "      background-color: #E2EBFA;\n",
              "      box-shadow: 0px 1px 2px rgba(60, 64, 67, 0.3), 0px 1px 3px 1px rgba(60, 64, 67, 0.15);\n",
              "      fill: #174EA6;\n",
              "    }\n",
              "\n",
              "    [theme=dark] .colab-df-convert {\n",
              "      background-color: #3B4455;\n",
              "      fill: #D2E3FC;\n",
              "    }\n",
              "\n",
              "    [theme=dark] .colab-df-convert:hover {\n",
              "      background-color: #434B5C;\n",
              "      box-shadow: 0px 1px 3px 1px rgba(0, 0, 0, 0.15);\n",
              "      filter: drop-shadow(0px 1px 2px rgba(0, 0, 0, 0.3));\n",
              "      fill: #FFFFFF;\n",
              "    }\n",
              "  </style>\n",
              "\n",
              "      <script>\n",
              "        const buttonEl =\n",
              "          document.querySelector('#df-5345f364-66e9-4a71-b533-873bea3a85cb button.colab-df-convert');\n",
              "        buttonEl.style.display =\n",
              "          google.colab.kernel.accessAllowed ? 'block' : 'none';\n",
              "\n",
              "        async function convertToInteractive(key) {\n",
              "          const element = document.querySelector('#df-5345f364-66e9-4a71-b533-873bea3a85cb');\n",
              "          const dataTable =\n",
              "            await google.colab.kernel.invokeFunction('convertToInteractive',\n",
              "                                                     [key], {});\n",
              "          if (!dataTable) return;\n",
              "\n",
              "          const docLinkHtml = 'Like what you see? Visit the ' +\n",
              "            '<a target=\"_blank\" href=https://colab.research.google.com/notebooks/data_table.ipynb>data table notebook</a>'\n",
              "            + ' to learn more about interactive tables.';\n",
              "          element.innerHTML = '';\n",
              "          dataTable['output_type'] = 'display_data';\n",
              "          await google.colab.output.renderOutput(dataTable, element);\n",
              "          const docLink = document.createElement('div');\n",
              "          docLink.innerHTML = docLinkHtml;\n",
              "          element.appendChild(docLink);\n",
              "        }\n",
              "      </script>\n",
              "    </div>\n",
              "  </div>\n",
              "  "
            ],
            "text/plain": [
              "             book_title  ...                                               text\n",
              "0                    28  ...  'A book worth reading despite translation or n...\n",
              "1                    28  ...  '28 - jeong youjeong\\n\\nTranslation season Rea...\n",
              "2    Nikto ne uznaet...  ...  'End but no less important, I still have a son...\n",
              "3  Vasha ten ponedelnik  ...  'The translator made some odd choices translat...\n",
              "4  Vasha ten ponedelnik  ...  'The German translation has recently been publ...\n",
              "\n",
              "[5 rows x 8 columns]"
            ]
          },
          "metadata": {},
          "execution_count": 130
        }
      ]
    },
    {
      "cell_type": "code",
      "source": [
        "df.info()"
      ],
      "metadata": {
        "colab": {
          "base_uri": "https://localhost:8080/"
        },
        "id": "p0j_zzHjVHXb",
        "outputId": "97dbb1c7-b4b1-4ba4-f368-d96d158f387d"
      },
      "execution_count": null,
      "outputs": [
        {
          "output_type": "stream",
          "name": "stdout",
          "text": [
            "<class 'pandas.core.frame.DataFrame'>\n",
            "RangeIndex: 2979 entries, 0 to 2978\n",
            "Data columns (total 8 columns):\n",
            " #   Column      Non-Null Count  Dtype \n",
            "---  ------      --------------  ----- \n",
            " 0   book_title  2979 non-null   object\n",
            " 1   search      2979 non-null   object\n",
            " 2   rating      2979 non-null   int64 \n",
            " 3   review      2979 non-null   object\n",
            " 4   en_review   2979 non-null   object\n",
            " 5   ko_review   2979 non-null   object\n",
            " 6   likes       2979 non-null   int64 \n",
            " 7   text        2979 non-null   object\n",
            "dtypes: int64(2), object(6)\n",
            "memory usage: 186.3+ KB\n"
          ]
        }
      ]
    },
    {
      "cell_type": "markdown",
      "source": [
        "# SENTIMENT ANALYSIS NLTK VADER\n",
        "\n",
        "\n",
        "preprocessing는 제외\n",
        "\n",
        "The incredible thing about VADER is it doesn’t require a great deal of preprocessing to work. Unlike with some supervised methods of NLP, preprocessing necessities such as tokenisation and stemming/lemmatisation are not required. You can pretty much plug in any body of text and it will determine the sentiment.\n"
      ],
      "metadata": {
        "id": "ii2IJiPH8Au5"
      }
    },
    {
      "cell_type": "code",
      "source": [
        "nltk.download('vader_lexicon')"
      ],
      "metadata": {
        "colab": {
          "base_uri": "https://localhost:8080/"
        },
        "id": "eaz97aPI78ZU",
        "outputId": "11313871-55ee-4cb4-f9c8-ca5a71b9c226"
      },
      "execution_count": null,
      "outputs": [
        {
          "output_type": "stream",
          "name": "stdout",
          "text": [
            "[nltk_data] Downloading package vader_lexicon to /root/nltk_data...\n",
            "[nltk_data]   Package vader_lexicon is already up-to-date!\n"
          ]
        },
        {
          "output_type": "execute_result",
          "data": {
            "text/plain": [
              "True"
            ]
          },
          "metadata": {},
          "execution_count": 133
        }
      ]
    },
    {
      "cell_type": "code",
      "source": [
        "def sentiment_analyze(text):\n",
        "  score = SentimentIntensityAnalyzer().polarity_scores(text)\n",
        "  neg = score['neg']\n",
        "  pos = score['pos']\n",
        "  neu = score['neu']\n",
        "\n",
        "  return SentimentIntensityAnalyzer().polarity_scores(text)"
      ],
      "metadata": {
        "id": "lMeYBOer78ba"
      },
      "execution_count": null,
      "outputs": []
    },
    {
      "cell_type": "code",
      "source": [
        "df['polarity']= df['text'].apply(sentiment_analyze)\n",
        "df['compound'] = df['polarity'].apply(lambda d:d['compound'])\n",
        "df.head()"
      ],
      "metadata": {
        "colab": {
          "base_uri": "https://localhost:8080/",
          "height": 354
        },
        "id": "TQtsBFcT78dz",
        "outputId": "8858ad7e-6f72-4162-a9d3-cd9613f0f633"
      },
      "execution_count": null,
      "outputs": [
        {
          "output_type": "execute_result",
          "data": {
            "text/html": [
              "\n",
              "  <div id=\"df-77470563-4eba-4469-a64c-49150f9a71de\">\n",
              "    <div class=\"colab-df-container\">\n",
              "      <div>\n",
              "<style scoped>\n",
              "    .dataframe tbody tr th:only-of-type {\n",
              "        vertical-align: middle;\n",
              "    }\n",
              "\n",
              "    .dataframe tbody tr th {\n",
              "        vertical-align: top;\n",
              "    }\n",
              "\n",
              "    .dataframe thead th {\n",
              "        text-align: right;\n",
              "    }\n",
              "</style>\n",
              "<table border=\"1\" class=\"dataframe\">\n",
              "  <thead>\n",
              "    <tr style=\"text-align: right;\">\n",
              "      <th></th>\n",
              "      <th>book_title</th>\n",
              "      <th>search</th>\n",
              "      <th>rating</th>\n",
              "      <th>review</th>\n",
              "      <th>en_review</th>\n",
              "      <th>ko_review</th>\n",
              "      <th>likes</th>\n",
              "      <th>text</th>\n",
              "      <th>polarity</th>\n",
              "      <th>compound</th>\n",
              "    </tr>\n",
              "  </thead>\n",
              "  <tbody>\n",
              "    <tr>\n",
              "      <th>0</th>\n",
              "      <td>28</td>\n",
              "      <td>28</td>\n",
              "      <td>5</td>\n",
              "      <td>Một cuốn sách chạm đến cảm xúc của mình.\\nBan ...</td>\n",
              "      <td>A book touches her feelings.\\nInitially readin...</td>\n",
              "      <td>책은 그녀의 감정을 촉진합니다.\\n처음에는 똑같은 사람들과 평소처럼 이것이 질병이라...</td>\n",
              "      <td>0</td>\n",
              "      <td>'A book worth reading despite translation or n...</td>\n",
              "      <td>{'neg': 0.0, 'neu': 0.537, 'pos': 0.463, 'comp...</td>\n",
              "      <td>0.8164</td>\n",
              "    </tr>\n",
              "    <tr>\n",
              "      <th>1</th>\n",
              "      <td>28</td>\n",
              "      <td>28</td>\n",
              "      <td>4</td>\n",
              "      <td>28 - Jeong YouJeong\\n\\nNhân mùa dịch đọc truyệ...</td>\n",
              "      <td>28 - jeong youjeong\\n\\nTranslation season Read...</td>\n",
              "      <td>28 - 정읍\\n\\n번역 시즌 서로의 전염병과 관련된 이야기 😜\\n\\n28은 Hwa...</td>\n",
              "      <td>0</td>\n",
              "      <td>'28 - jeong youjeong\\n\\nTranslation season Rea...</td>\n",
              "      <td>{'neg': 0.133, 'neu': 0.772, 'pos': 0.096, 'co...</td>\n",
              "      <td>-0.4939</td>\n",
              "    </tr>\n",
              "    <tr>\n",
              "      <th>2</th>\n",
              "      <td>Nikto ne uznaet...</td>\n",
              "      <td>Nikto ne uznaet...</td>\n",
              "      <td>3</td>\n",
              "      <td>Sách mượn của bạn, đọc trên xe bus ^^\\nĐiều gì...</td>\n",
              "      <td>Bow your loan, read on the bus ^^\\nWhat happen...</td>\n",
              "      <td>당신의 대출을 활, 버스에서 읽으십시오 ^^\\n어떤 일이 일어나는지, 누가 알고있는...</td>\n",
              "      <td>0</td>\n",
              "      <td>'End but no less important, I still have a son...</td>\n",
              "      <td>{'neg': 0.188, 'neu': 0.754, 'pos': 0.058, 'co...</td>\n",
              "      <td>-0.6110</td>\n",
              "    </tr>\n",
              "    <tr>\n",
              "      <th>3</th>\n",
              "      <td>Vasha ten ponedelnik</td>\n",
              "      <td>Vasha ten ponedelnik</td>\n",
              "      <td>2</td>\n",
              "      <td>This was weird. The translator made some odd c...</td>\n",
              "      <td>This was weird. The translator made some odd c...</td>\n",
              "      <td>이것은 이상 했어. 번역가는이 책을 번역하는 이상한 선택을했습니다. 가장 많은 부분...</td>\n",
              "      <td>2</td>\n",
              "      <td>'The translator made some odd choices translat...</td>\n",
              "      <td>{'neg': 0.223, 'neu': 0.777, 'pos': 0.0, 'comp...</td>\n",
              "      <td>-0.3182</td>\n",
              "    </tr>\n",
              "    <tr>\n",
              "      <th>4</th>\n",
              "      <td>Vasha ten ponedelnik</td>\n",
              "      <td>Vasha ten ponedelnik</td>\n",
              "      <td>3</td>\n",
              "      <td>Eine insgesamt etwas zerfahrene Kriminalgeschi...</td>\n",
              "      <td>An overall somewhat cervical crime history fro...</td>\n",
              "      <td>한국의 전반적인 자궁 경부 범죄 역사는 종종 실제 음모를 잃는다. 그러나 매우 보조...</td>\n",
              "      <td>0</td>\n",
              "      <td>'The German translation has recently been publ...</td>\n",
              "      <td>{'neg': 0.0, 'neu': 1.0, 'pos': 0.0, 'compound...</td>\n",
              "      <td>0.0000</td>\n",
              "    </tr>\n",
              "  </tbody>\n",
              "</table>\n",
              "</div>\n",
              "      <button class=\"colab-df-convert\" onclick=\"convertToInteractive('df-77470563-4eba-4469-a64c-49150f9a71de')\"\n",
              "              title=\"Convert this dataframe to an interactive table.\"\n",
              "              style=\"display:none;\">\n",
              "        \n",
              "  <svg xmlns=\"http://www.w3.org/2000/svg\" height=\"24px\"viewBox=\"0 0 24 24\"\n",
              "       width=\"24px\">\n",
              "    <path d=\"M0 0h24v24H0V0z\" fill=\"none\"/>\n",
              "    <path d=\"M18.56 5.44l.94 2.06.94-2.06 2.06-.94-2.06-.94-.94-2.06-.94 2.06-2.06.94zm-11 1L8.5 8.5l.94-2.06 2.06-.94-2.06-.94L8.5 2.5l-.94 2.06-2.06.94zm10 10l.94 2.06.94-2.06 2.06-.94-2.06-.94-.94-2.06-.94 2.06-2.06.94z\"/><path d=\"M17.41 7.96l-1.37-1.37c-.4-.4-.92-.59-1.43-.59-.52 0-1.04.2-1.43.59L10.3 9.45l-7.72 7.72c-.78.78-.78 2.05 0 2.83L4 21.41c.39.39.9.59 1.41.59.51 0 1.02-.2 1.41-.59l7.78-7.78 2.81-2.81c.8-.78.8-2.07 0-2.86zM5.41 20L4 18.59l7.72-7.72 1.47 1.35L5.41 20z\"/>\n",
              "  </svg>\n",
              "      </button>\n",
              "      \n",
              "  <style>\n",
              "    .colab-df-container {\n",
              "      display:flex;\n",
              "      flex-wrap:wrap;\n",
              "      gap: 12px;\n",
              "    }\n",
              "\n",
              "    .colab-df-convert {\n",
              "      background-color: #E8F0FE;\n",
              "      border: none;\n",
              "      border-radius: 50%;\n",
              "      cursor: pointer;\n",
              "      display: none;\n",
              "      fill: #1967D2;\n",
              "      height: 32px;\n",
              "      padding: 0 0 0 0;\n",
              "      width: 32px;\n",
              "    }\n",
              "\n",
              "    .colab-df-convert:hover {\n",
              "      background-color: #E2EBFA;\n",
              "      box-shadow: 0px 1px 2px rgba(60, 64, 67, 0.3), 0px 1px 3px 1px rgba(60, 64, 67, 0.15);\n",
              "      fill: #174EA6;\n",
              "    }\n",
              "\n",
              "    [theme=dark] .colab-df-convert {\n",
              "      background-color: #3B4455;\n",
              "      fill: #D2E3FC;\n",
              "    }\n",
              "\n",
              "    [theme=dark] .colab-df-convert:hover {\n",
              "      background-color: #434B5C;\n",
              "      box-shadow: 0px 1px 3px 1px rgba(0, 0, 0, 0.15);\n",
              "      filter: drop-shadow(0px 1px 2px rgba(0, 0, 0, 0.3));\n",
              "      fill: #FFFFFF;\n",
              "    }\n",
              "  </style>\n",
              "\n",
              "      <script>\n",
              "        const buttonEl =\n",
              "          document.querySelector('#df-77470563-4eba-4469-a64c-49150f9a71de button.colab-df-convert');\n",
              "        buttonEl.style.display =\n",
              "          google.colab.kernel.accessAllowed ? 'block' : 'none';\n",
              "\n",
              "        async function convertToInteractive(key) {\n",
              "          const element = document.querySelector('#df-77470563-4eba-4469-a64c-49150f9a71de');\n",
              "          const dataTable =\n",
              "            await google.colab.kernel.invokeFunction('convertToInteractive',\n",
              "                                                     [key], {});\n",
              "          if (!dataTable) return;\n",
              "\n",
              "          const docLinkHtml = 'Like what you see? Visit the ' +\n",
              "            '<a target=\"_blank\" href=https://colab.research.google.com/notebooks/data_table.ipynb>data table notebook</a>'\n",
              "            + ' to learn more about interactive tables.';\n",
              "          element.innerHTML = '';\n",
              "          dataTable['output_type'] = 'display_data';\n",
              "          await google.colab.output.renderOutput(dataTable, element);\n",
              "          const docLink = document.createElement('div');\n",
              "          docLink.innerHTML = docLinkHtml;\n",
              "          element.appendChild(docLink);\n",
              "        }\n",
              "      </script>\n",
              "    </div>\n",
              "  </div>\n",
              "  "
            ],
            "text/plain": [
              "             book_title  ... compound\n",
              "0                    28  ...   0.8164\n",
              "1                    28  ...  -0.4939\n",
              "2    Nikto ne uznaet...  ...  -0.6110\n",
              "3  Vasha ten ponedelnik  ...  -0.3182\n",
              "4  Vasha ten ponedelnik  ...   0.0000\n",
              "\n",
              "[5 rows x 10 columns]"
            ]
          },
          "metadata": {},
          "execution_count": 135
        }
      ]
    },
    {
      "cell_type": "code",
      "source": [
        "df[(df['text']=='')].count()"
      ],
      "metadata": {
        "colab": {
          "base_uri": "https://localhost:8080/"
        },
        "id": "t5aQ48C3Rjnt",
        "outputId": "8ab53909-745e-4bf0-f3a6-038b43732c48"
      },
      "execution_count": null,
      "outputs": [
        {
          "output_type": "execute_result",
          "data": {
            "text/plain": [
              "book_title    0\n",
              "search        0\n",
              "rating        0\n",
              "review        0\n",
              "en_review     0\n",
              "ko_review     0\n",
              "likes         0\n",
              "text          0\n",
              "polarity      0\n",
              "compound      0\n",
              "dtype: int64"
            ]
          },
          "metadata": {},
          "execution_count": 136
        }
      ]
    },
    {
      "cell_type": "code",
      "source": [
        "df.to_excel('번역점수.xlsx')"
      ],
      "metadata": {
        "id": "ckIXokIZ78fo"
      },
      "execution_count": null,
      "outputs": []
    },
    {
      "cell_type": "code",
      "source": [],
      "metadata": {
        "id": "NKgutDeK78iw"
      },
      "execution_count": null,
      "outputs": []
    },
    {
      "cell_type": "code",
      "source": [],
      "metadata": {
        "id": "iRUKbIXt78k6"
      },
      "execution_count": null,
      "outputs": []
    }
  ]
}